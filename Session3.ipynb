{
 "cells": [
  {
   "cell_type": "markdown",
   "metadata": {},
   "source": [
    "### Python iterations\n"
   ]
  },
  {
   "cell_type": "markdown",
   "metadata": {},
   "source": [
    "Let's say we want to run a piece of code several times until a certain condition is met"
   ]
  },
  {
   "cell_type": "markdown",
   "metadata": {},
   "source": [
    "We can start by writing something like this:\n"
   ]
  },
  {
   "cell_type": "code",
   "execution_count": null,
   "metadata": {},
   "outputs": [],
   "source": [
    "patient_HR = 180\n",
    "b_pills = 0\n",
    "if patient_HR > 100:\n",
    "    b_pill +=1\n",
    "    patient_HR -=10\n",
    "    \n",
    "print(patient_HR)\n",
    "print(b_pill)\n",
    "    "
   ]
  },
  {
   "cell_type": "markdown",
   "metadata": {},
   "source": [
    "The code only executed once because the if statement was only evaluated once\n",
    "\n",
    "To run code several times, we use iterations such as a while loop"
   ]
  },
  {
   "cell_type": "markdown",
   "metadata": {},
   "source": [
    "A while loop needs:\n",
    "while keyword + condition to check:\n",
    "    indented code to run multiple times\n",
    "    \n",
    "Let's convert the above code to run until the patient is stable"
   ]
  },
  {
   "cell_type": "code",
   "execution_count": null,
   "metadata": {},
   "outputs": [],
   "source": [
    "#while loops\n",
    "patient_HR = 180\n",
    "b_blocker_pill = 0\n",
    "while patient_HR > 100:\n",
    "    b_blocker_pill +=1\n",
    "    patient_HR -=10\n",
    "\n",
    "print(patient_HR)\n",
    "print('Number of beta blocker pills given is ', b_blocker_pill)\n"
   ]
  },
  {
   "cell_type": "code",
   "execution_count": null,
   "metadata": {},
   "outputs": [],
   "source": [
    "#infinite loops\n",
    "x = 1\n",
    "while True:\n",
    "    print \"To infinity and beyond! We're getting close, on %d now!\" % (x)\n",
    "    x += 1"
   ]
  },
  {
   "cell_type": "markdown",
   "metadata": {},
   "source": [
    "In general, avoid writing infinite loops so you don't break your computer "
   ]
  },
  {
   "cell_type": "markdown",
   "metadata": {},
   "source": [
    "One way of doing that is using a variable to keep track of the iterations "
   ]
  },
  {
   "cell_type": "code",
   "execution_count": null,
   "metadata": {},
   "outputs": [],
   "source": [
    "#Using counters - The Jake Peralta Loop\n",
    "counter = 0\n",
    "word = 'Cool'\n",
    "while counter < 10:\n",
    "    print(word*counter)\n",
    "    counter +=1\n"
   ]
  },
  {
   "cell_type": "markdown",
   "metadata": {},
   "source": [
    "We can also set the while loop to force a response from a user "
   ]
  },
  {
   "cell_type": "code",
   "execution_count": 14,
   "metadata": {
    "scrolled": true
   },
   "outputs": [
    {
     "name": "stdout",
     "output_type": "stream",
     "text": [
      "Do you want to build a snowman? (y/n):s\n",
      "s\n",
      "Do you want to build a snowman? (y/n):n\n",
      "n\n"
     ]
    }
   ],
   "source": [
    "user_response = ''\n",
    "while user_response != 'y' and user_response !='n':\n",
    "    user_response = input('Do you want to build a snowman? (y/n):')\n"
   ]
  },
  {
   "cell_type": "code",
   "execution_count": 17,
   "metadata": {},
   "outputs": [
    {
     "data": {
      "text/plain": [
       "True"
      ]
     },
     "execution_count": 17,
     "metadata": {},
     "output_type": "execute_result"
    }
   ],
   "source": []
  },
  {
   "cell_type": "markdown",
   "metadata": {},
   "source": [
    "Sometimes you know how many times you would like to run the code or you want to run it based on another variable's content\n",
    "\n",
    "For this you can use the 'for' loop"
   ]
  },
  {
   "cell_type": "code",
   "execution_count": null,
   "metadata": {},
   "outputs": [],
   "source": []
  },
  {
   "cell_type": "code",
   "execution_count": null,
   "metadata": {},
   "outputs": [],
   "source": [
    "#For loops\n",
    "for i in range(10):\n",
    "    print(i)"
   ]
  },
  {
   "cell_type": "markdown",
   "metadata": {},
   "source": [
    "We can specifiy when to start, stop, and in what intervals to progress through the for loop\n",
    "\n",
    "i.e. from 0 to 10 in steps of 2\n",
    "\n",
    "range(start, stop, interval)"
   ]
  },
  {
   "cell_type": "code",
   "execution_count": null,
   "metadata": {},
   "outputs": [],
   "source": [
    "for gucci_gang in range(5,30,2):\n",
    "    if gucci_gang == 9:\n",
    "        print('over here')\n",
    "    elif gucci_gang == 10:\n",
    "        print('will never print')\n"
   ]
  },
  {
   "cell_type": "markdown",
   "metadata": {},
   "source": [
    "We can also loop thourhg a list \n",
    "\n",
    "a list is considered an 'iterable' type, meaning you can loop through it"
   ]
  },
  {
   "cell_type": "code",
   "execution_count": null,
   "metadata": {},
   "outputs": [],
   "source": [
    "list_cancelled_celebs = ['R Kelly','Harvey Weinstein','Kevin Spacey']\n",
    "for celeb in list_of_cancelled_celebs:\n",
    "    print(celeb + ', you cancelled')\n"
   ]
  },
  {
   "cell_type": "markdown",
   "metadata": {},
   "source": [
    "We use loops to make calculations and assignments at super fast speed\n",
    "\n",
    "We can also put loops inside of loops"
   ]
  },
  {
   "cell_type": "code",
   "execution_count": null,
   "metadata": {},
   "outputs": [],
   "source": [
    "for x in range(1, 11):\n",
    "    for y in range(1, 11):\n",
    "        print('{0} * {1} = {2}'.format(x, y, x*y))"
   ]
  },
  {
   "cell_type": "markdown",
   "metadata": {},
   "source": [
    "A string is also iterable"
   ]
  },
  {
   "cell_type": "code",
   "execution_count": null,
   "metadata": {},
   "outputs": [],
   "source": [
    "sassy_string = 'PEE IS STORED IN THE BALLS'\n",
    "for letter in sassy_string:\n",
    "    print(letter)"
   ]
  },
  {
   "cell_type": "markdown",
   "metadata": {},
   "source": [
    "Some examples of loops in the wild"
   ]
  },
  {
   "cell_type": "code",
   "execution_count": 20,
   "metadata": {},
   "outputs": [
    {
     "name": "stdout",
     "output_type": "stream",
     "text": [
      "Omri matched in Hogwarts\n",
      "Claire matched in Hogwarts\n",
      "Harry matched in Hogwarts\n",
      "Ron matched in Hogwarts\n",
      "Hermoine matched in Hogwarts\n"
     ]
    }
   ],
   "source": [
    "candidates = ['Omri','Claire','Harry','Ron','Hermoine']\n",
    "for candidate in candidates:\n",
    "    #perform the matching algorithm here\n",
    "    #Tell candidate where they matched\n",
    "    print(candidate + ' matched in Hogwarts')"
   ]
  },
  {
   "cell_type": "code",
   "execution_count": 25,
   "metadata": {},
   "outputs": [
    {
     "name": "stdout",
     "output_type": "stream",
     "text": [
      "Omri is ranked 4\n",
      "Claire is ranked 3\n",
      "Harry is ranked 1\n",
      "Ron is ranked 5\n",
      "Hermoine is ranked 2\n"
     ]
    }
   ],
   "source": [
    "hogwarts_preference = ['Harry','Hermoine','Claire','Omri','Ron']\n",
    "for candidate in candidates:\n",
    "    index = hogwarts_preference.index(candidate)\n",
    "    print(candidate + ' is ranked '+ str(index+1))"
   ]
  },
  {
   "cell_type": "code",
   "execution_count": null,
   "metadata": {},
   "outputs": [],
   "source": []
  }
 ],
 "metadata": {
  "kernelspec": {
   "display_name": "Python 3",
   "language": "python",
   "name": "python3"
  },
  "language_info": {
   "codemirror_mode": {
    "name": "ipython",
    "version": 3
   },
   "file_extension": ".py",
   "mimetype": "text/x-python",
   "name": "python",
   "nbconvert_exporter": "python",
   "pygments_lexer": "ipython3",
   "version": "3.6.7"
  }
 },
 "nbformat": 4,
 "nbformat_minor": 2
}
