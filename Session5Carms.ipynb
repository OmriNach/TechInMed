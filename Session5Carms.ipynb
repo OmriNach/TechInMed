{
 "cells": [
  {
   "cell_type": "code",
   "execution_count": null,
   "metadata": {},
   "outputs": [],
   "source": [
    "#import list of progrsm\n",
    "#import list of candidates\n",
    "#import program choices\n",
    "#import candidate choices\n",
    "\n",
    "#Create programs LOA dictionary = 'Program' : ['List of choices']\n",
    "#Create candidates LOA dictionary = 'Candidate' : ['List of choices']\n",
    "\n",
    "#Create a current placement dictionary for candidates = 'Candidate' : 'Current placement'\n",
    "#Create a current placement dictionary for programs = 'Program' : ['List of candidates placed']"
   ]
  },
  {
   "cell_type": "code",
   "execution_count": null,
   "metadata": {},
   "outputs": [],
   "source": [
    "#def find_next function\n",
    "#args: candidate, choices, current placement\n",
    "# Access choice list and pop the newest one into a program variable\n",
    "    #Except no more programs left\n",
    "#Call program verifier function\n",
    "#If program verifier function found a place, return True\n",
    "#if not, call self function again (which will pop in the next program)\n"
   ]
  },
  {
   "cell_type": "code",
   "execution_count": null,
   "metadata": {},
   "outputs": [],
   "source": [
    "#def program verifier function \n",
    "#args: candidate who called the function, the program LOA, their current picks, their current picks' indexes\n",
    "#... total places in the program\n",
    "#IF 1 : Check if applicant in question is in the LOA\n",
    "#   If 2Then check if there is room in the program\n",
    "#    if there is, append to a program placement list\n",
    "     #return\n",
    "#    If 3: if theres no room, check if the rank of the candidate in question to the last one that was added\n",
    "#    Call find index function\n",
    "#    if this candidate ranks higher, insert candidate into current picks \n",
    "    # Call find next on the candidate that was just displaced from the list before proceeding"
   ]
  },
  {
   "cell_type": "code",
   "execution_count": null,
   "metadata": {},
   "outputs": [],
   "source": [
    "#def find_index function\n",
    "#args: name of candidate in question, program with candidate placement, and program with candidate rank order lists\n",
    "\n",
    "#give the candidate in question is being placed on the list, where should they be placed\n",
    "#compare rank of all other placed candidates and return the index for them to be placed between\n"
   ]
  },
  {
   "cell_type": "code",
   "execution_count": null,
   "metadata": {},
   "outputs": [],
   "source": []
  }
 ],
 "metadata": {
  "kernelspec": {
   "display_name": "Python 3",
   "language": "python",
   "name": "python3"
  },
  "language_info": {
   "codemirror_mode": {
    "name": "ipython",
    "version": 3
   },
   "file_extension": ".py",
   "mimetype": "text/x-python",
   "name": "python",
   "nbconvert_exporter": "python",
   "pygments_lexer": "ipython3",
   "version": "3.6.7"
  }
 },
 "nbformat": 4,
 "nbformat_minor": 2
}
