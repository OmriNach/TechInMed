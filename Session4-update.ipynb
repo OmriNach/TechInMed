{
 "cells": [
  {
   "cell_type": "markdown",
   "metadata": {},
   "source": [
    "### Functions - The building blocks of programming\n"
   ]
  },
  {
   "cell_type": "markdown",
   "metadata": {},
   "source": [
    "#Analogy: functions are like the cells of a program. Up until now we learned all the signalling pathways, proteins, and genes avaialble to us. Now we can make cells that do things"
   ]
  },
  {
   "cell_type": "markdown",
   "metadata": {},
   "source": [
    "#Different cells can come together to make a working organism or program"
   ]
  },
  {
   "cell_type": "code",
   "execution_count": 1,
   "metadata": {},
   "outputs": [],
   "source": [
    "#Typically, the main function that runs your program is called main\n",
    "\n",
    "def main():\n",
    "    print('Hello MacMed')"
   ]
  },
  {
   "cell_type": "code",
   "execution_count": 3,
   "metadata": {},
   "outputs": [
    {
     "name": "stdout",
     "output_type": "stream",
     "text": [
      "Hello MacMed\n"
     ]
    }
   ],
   "source": [
    "#To run a function, simply write its name()\n",
    "main()"
   ]
  },
  {
   "cell_type": "code",
   "execution_count": 4,
   "metadata": {},
   "outputs": [],
   "source": [
    "#What if we want our function to be more flexible?\n",
    "\n",
    "def main(my_string):\n",
    "    print(my_string)\n"
   ]
  },
  {
   "cell_type": "code",
   "execution_count": 5,
   "metadata": {},
   "outputs": [
    {
     "name": "stdout",
     "output_type": "stream",
     "text": [
      "Self directed learning is great\n"
     ]
    }
   ],
   "source": [
    "#Now we can make our function print anything we pass to it as an argument\n",
    "main('Self directed learning is great')"
   ]
  },
  {
   "cell_type": "markdown",
   "metadata": {},
   "source": [
    "You can pass multiple inputs into a function! "
   ]
  },
  {
   "cell_type": "code",
   "execution_count": 3,
   "metadata": {},
   "outputs": [],
   "source": [
    "def enroll_horizontal (date,department):\n",
    "    print (\"Hello, this is the automated elective service\")\n",
    "    print (\"We are sorry, there is no availability on\", date, \"in\", department)\n",
    "    \n",
    "def main():\n",
    "    elective_date = input(\"When would you like to do your horizontal?\")\n",
    "    elective_department = input (\"Please enter the department you plan to do your horizontal in:\")\n",
    "    enroll_horizontal (elective_date,elective_department)"
   ]
  },
  {
   "cell_type": "markdown",
   "metadata": {},
   "source": [
    "## why did nothing happen? :(  "
   ]
  },
  {
   "cell_type": "markdown",
   "metadata": {},
   "source": [
    "Function definitions specifies what the functions do, but do not actually cause the funciton to execute! In programming language, we must ***call*** the function when we want to get an output. "
   ]
  },
  {
   "cell_type": "code",
   "execution_count": 4,
   "metadata": {},
   "outputs": [
    {
     "name": "stdout",
     "output_type": "stream",
     "text": [
      "When would you like to do your horizontal?jan 3 2020\n",
      "Please enter the department you plan to do your horizontal in:plastic surgery\n",
      "Hello, this is the automated elective service\n",
      "We are sorry, there is no availability on jan 3 2020 in plastic surgery\n"
     ]
    }
   ],
   "source": [
    "main()"
   ]
  },
  {
   "cell_type": "markdown",
   "metadata": {},
   "source": [
    "### Value Returning Funcitons: a function that returns a value back to the part of the program that called it"
   ]
  },
  {
   "cell_type": "markdown",
   "metadata": {},
   "source": [
    "## IMPORTANT: \n",
    "If a function contains no return statement, the value None is automatically returned."
   ]
  },
  {
   "cell_type": "code",
   "execution_count": 41,
   "metadata": {},
   "outputs": [],
   "source": [
    "def calc_bmi (weight, height_feet, height_inches):\n",
    "    #this function uses weight in kg, and height in m \n",
    "    weight_in_kg = Convert_lbs_to_kg(weight)\n",
    "    height_in_m = convert_to_m(height_feet,height_inches)\n",
    "    print(weight_in_kg, height_in_m)\n",
    "    bmi = weight_in_kg/height_in_m**2\n",
    "    return bmi\n",
    "    \n",
    "def Convert_lbs_to_kg(pounds):\n",
    "    pounds = float(pounds)\n",
    "    kg = pounds*0.453592\n",
    "    return kg \n",
    "def convert_to_m (feet, inches):\n",
    "    feet = float(feet)\n",
    "    inches = float(inches)\n",
    "    meters = 0.3048*feet\n",
    "    cm = inches*2.54\n",
    "    total_m = meters +0.01*cm \n",
    "    return total_m\n",
    "\n",
    "def main():\n",
    "    weight = input (\"What is your weight in pounds\")\n",
    "    Height_feet, Height_inches = input(\"Enter your height in the format Feet, Inches\").split(',')\n",
    "    your_BMI = calc_bmi(weight,Height_feet, Height_inches)\n",
    "    print (\"You have a BMI of\", your_BMI)\n",
    "    "
   ]
  },
  {
   "cell_type": "code",
   "execution_count": 42,
   "metadata": {},
   "outputs": [
    {
     "name": "stdout",
     "output_type": "stream",
     "text": [
      "What is your weight in pounds140\n",
      "Enter your height in the format Feet, Inches5,9\n",
      "63.50288 1.7526\n",
      "You have a BMI of 20.674156870262912\n"
     ]
    }
   ],
   "source": [
    "main()"
   ]
  }
 ],
 "metadata": {
  "kernelspec": {
   "display_name": "Python 3",
   "language": "python",
   "name": "python3"
  },
  "language_info": {
   "codemirror_mode": {
    "name": "ipython",
    "version": 3
   },
   "file_extension": ".py",
   "mimetype": "text/x-python",
   "name": "python",
   "nbconvert_exporter": "python",
   "pygments_lexer": "ipython3",
   "version": "3.6.5"
  }
 },
 "nbformat": 4,
 "nbformat_minor": 2
}
