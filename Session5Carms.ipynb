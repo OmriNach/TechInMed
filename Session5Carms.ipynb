{
 "cells": [
  {
   "cell_type": "code",
   "execution_count": 1,
   "metadata": {},
   "outputs": [],
   "source": [
    "#import list of progrsm\n",
    "#import list of candidates\n",
    "#import program choices\n",
    "#import candidate choices\n",
    "#Create programs LOA dictionary = 'Program' : ['List of choices']\n",
    "#Create candidates LOA dictionary = 'Candidate' : ['List of choices']\n",
    "import csv\n",
    "\n",
    "path_applicants = '/Users/omrinachmani/Desktop/applicants.csv'\n",
    "path_programs = '/Users/omrinachmani/Desktop/programs.csv'\n",
    "\n",
    "candidates = []\n",
    "programs = []\n",
    "candidates_LOA = {}\n",
    "programs_LOA = {}\n",
    "with open(path_applicants) as csvfile:\n",
    "    f = csv.reader(csvfile,delimiter=',')\n",
    "    for row in f:\n",
    "        row_lower = []\n",
    "        for element in row:\n",
    "            row_lower.append(element.lower()) \n",
    "        name = row_lower[0]\n",
    "        candidates.append(name)\n",
    "        choices = row_lower[1:-1]\n",
    "        candidates_LOA[name] = choices[::-1]\n",
    "        \n",
    "with open(path_programs) as csvfile:\n",
    "    f = csv.reader(csvfile,delimiter=',')\n",
    "    for row in f:\n",
    "        row_lower = []\n",
    "        for element in row:\n",
    "            row_lower.append(element.lower()) \n",
    "        name = row_lower[0]\n",
    "        programs.append(name)\n",
    "        programs_LOA[name] = row_lower[1:-1]\n",
    "\n",
    "#Create a current placement dictionary for candidates = 'Candidate' : 'Current placement'\n",
    "#Create a current placement dictionary for programs = 'Program' : ['List of candidates placed']\n",
    "\n",
    "curr_placement= {}\n",
    "curr_candidates = {}\n",
    "for candidate in candidates:\n",
    "    curr_placement[candidate] = None\n",
    "\n",
    "total_places =2\n",
    "for program in programs:\n",
    "    curr_candidates[program] = [None]*total_places\n",
    "\n"
   ]
  },
  {
   "cell_type": "code",
   "execution_count": 2,
   "metadata": {},
   "outputs": [],
   "source": [
    "#def find_next function\n",
    "#args: candidate, choices, current placement\n",
    "# Access choice list and pop the newest one into a program variable\n",
    "    #Except no more programs left\n",
    "#Call program verifier function\n",
    "#If program verifier function found a place, return True\n",
    "#if not, call self function again (which will pop in the next program)\n",
    "def find_next_placement(candidate):\n",
    "    try:\n",
    "        program = candidates_LOA[candidate].pop()\n",
    "    except IndexError:\n",
    "        curr_placement[candidate]=None\n",
    "        print('{} could not be placed in any program'.format(candidate))\n",
    "        return False\n",
    "    if program_verifier(candidate,program):\n",
    "        curr_placement[candidate] = program\n",
    "        print('!{} was placed in {}!'.format(candidate,program))\n",
    "        return True\n",
    "    print('**Moving to next choice for {}**'.format(candidate))\n",
    "    find_next_placement(candidate)"
   ]
  },
  {
   "cell_type": "code",
   "execution_count": 3,
   "metadata": {},
   "outputs": [],
   "source": [
    "#def program verifier function \n",
    "#args: candidate who called the function, the program LOA, their current picks, their current picks' indexes\n",
    "#... total places in the program\n",
    "#IF 1 : Check if applicant in question is in the LOA\n",
    "#   If 2Then check if there is room in the program\n",
    "#    if there is, append to a program placement list\n",
    "     #return\n",
    "#    If 3: if theres no room, check if the rank of the candidate in question to the last one that was added\n",
    "#    Call find index function\n",
    "#    if this candidate ranks higher, insert candidate into current picks \n",
    "    # Call find next on the candidate that was just displaced from the list before proceeding\n",
    "    \n",
    "def program_verifier(candidate, program):\n",
    "    if candidate in programs_LOA[program]:\n",
    "        if None in curr_candidates[program]:\n",
    "            ind = curr_candidates[program].index(None)\n",
    "            curr_candidates[program][ind] = candidate\n",
    "            return True\n",
    "        if programs_LOA[program].index(candidate) < programs_LOA[program].index(curr_candidates[program][-1]):\n",
    "            ind = find_index(candidate, program)\n",
    "            replaced = curr_candidates[program].pop()\n",
    "            curr_candidates[program].insert(ind,candidate)\n",
    "            curr_placement[candidate] = program\n",
    "            print('--{} was replaced with {} for {} program'.format(replaced, candidate, program))\n",
    "            print('-------Looking for placement for {}---------'.format(replaced))\n",
    "            find_next_placement(replaced)\n",
    "            return True\n",
    "    return False"
   ]
  },
  {
   "cell_type": "code",
   "execution_count": 4,
   "metadata": {},
   "outputs": [],
   "source": [
    "#def find_index function\n",
    "#args: name of candidate in question, program with candidate placement, and program with candidate rank order lists\n",
    "\n",
    "#give the candidate in question is being placed on the list, where should they be placed\n",
    "#compare rank of all other placed candidates and return the index for them to be placed between\n",
    "def find_index(candidate,program):\n",
    "    candidate_rank = programs_LOA[program].index(candidate)\n",
    "    curr_ranks = []\n",
    "    for curr_pick in curr_candidates[program]:\n",
    "        curr_ranks.append(programs_LOA[program].index(curr_pick))\n",
    "    for i in range(len(curr_ranks)):\n",
    "        if candidate_rank < curr_ranks[i]:\n",
    "            return i"
   ]
  },
  {
   "cell_type": "code",
   "execution_count": 5,
   "metadata": {},
   "outputs": [],
   "source": [
    "def start_match():\n",
    "    for candidate in candidates:\n",
    "        print('-------Looking for placement for {}---------'.format(candidate))\n",
    "        find_next_placement(candidate)"
   ]
  },
  {
   "cell_type": "code",
   "execution_count": 6,
   "metadata": {},
   "outputs": [
    {
     "name": "stdout",
     "output_type": "stream",
     "text": [
      "-------Looking for placement for anderson---------\n",
      "!anderson was placed in city!\n",
      "-------Looking for placement for beaudry---------\n",
      "!beaudry was placed in city!\n",
      "-------Looking for placement for chen---------\n",
      "**Moving to next choice for chen**\n",
      "!chen was placed in mercy!\n",
      "-------Looking for placement for davis---------\n",
      "**Moving to next choice for davis**\n",
      "**Moving to next choice for davis**\n",
      "!davis was placed in general!\n",
      "-------Looking for placement for eastman---------\n",
      "--beaudry was replaced with eastman for city program\n",
      "-------Looking for placement for beaudry---------\n",
      "**Moving to next choice for beaudry**\n",
      "beaudry could not be placed in any program\n",
      "!eastman was placed in city!\n",
      "-------Looking for placement for feldman---------\n",
      "**Moving to next choice for feldman**\n",
      "**Moving to next choice for feldman**\n",
      "**Moving to next choice for feldman**\n",
      "!feldman was placed in state!\n",
      "-------Looking for placement for garcia---------\n",
      "--anderson was replaced with garcia for city program\n",
      "-------Looking for placement for anderson---------\n",
      "anderson could not be placed in any program\n",
      "!garcia was placed in city!\n",
      "-------Looking for placement for hassan---------\n",
      "!hassan was placed in state!\n"
     ]
    }
   ],
   "source": [
    "start_match()"
   ]
  },
  {
   "cell_type": "code",
   "execution_count": 8,
   "metadata": {},
   "outputs": [
    {
     "data": {
      "text/plain": [
       "{'anderson': None,\n",
       " 'beaudry': None,\n",
       " 'chen': 'mercy',\n",
       " 'davis': 'general',\n",
       " 'eastman': 'city',\n",
       " 'feldman': 'state',\n",
       " 'garcia': 'city',\n",
       " 'hassan': 'state'}"
      ]
     },
     "execution_count": 8,
     "metadata": {},
     "output_type": "execute_result"
    }
   ],
   "source": [
    "curr_placement"
   ]
  },
  {
   "cell_type": "code",
   "execution_count": 1,
   "metadata": {},
   "outputs": [
    {
     "name": "stdout",
     "output_type": "stream",
     "text": [
      "i have 4\n"
     ]
    }
   ],
   "source": []
  },
  {
   "cell_type": "code",
   "execution_count": null,
   "metadata": {},
   "outputs": [],
   "source": []
  }
 ],
 "metadata": {
  "kernelspec": {
   "display_name": "Python 3",
   "language": "python",
   "name": "python3"
  },
  "language_info": {
   "codemirror_mode": {
    "name": "ipython",
    "version": 3
   },
   "file_extension": ".py",
   "mimetype": "text/x-python",
   "name": "python",
   "nbconvert_exporter": "python",
   "pygments_lexer": "ipython3",
   "version": "3.6.7"
  }
 },
 "nbformat": 4,
 "nbformat_minor": 2
}
